{
 "cells": [
  {
   "cell_type": "code",
   "execution_count": 1,
   "id": "radio-bruce",
   "metadata": {},
   "outputs": [],
   "source": [
    "%load_ext lab_black"
   ]
  },
  {
   "cell_type": "markdown",
   "id": "velvet-timothy",
   "metadata": {},
   "source": [
    "# Heating Fraction\n",
    "\n",
    "In this short analysis, we quantify the fraction of heating in Texas that is electric.\n",
    "The dataset comes from\n",
    "\n",
    "> Waite, M., & Modi, V. (2020). Electricity load implications of space heating decarbonization pathways. Joule, 4(2), 376–394. https://doi.org/10.1016/j.joule.2019.11.011\n",
    "\n",
    "In our analysis we specifically include a single CSV file to estimate the fraction of electric and commercial heating in Texas that is electric.\n",
    "The data comes from the Academic Commons entry for the paper:\n",
    "\n",
    "> https://doi.org/10.7916/d8-4g8y-mv98"
   ]
  },
  {
   "cell_type": "code",
   "execution_count": 2,
   "id": "julian-jackson",
   "metadata": {},
   "outputs": [],
   "source": [
    "import pandas as pd\n",
    "\n",
    "from codebase.path import datadir"
   ]
  },
  {
   "cell_type": "code",
   "execution_count": 3,
   "id": "optimum-oregon",
   "metadata": {},
   "outputs": [
    {
     "data": {
      "text/html": [
       "<div>\n",
       "<style scoped>\n",
       "    .dataframe tbody tr th:only-of-type {\n",
       "        vertical-align: middle;\n",
       "    }\n",
       "\n",
       "    .dataframe tbody tr th {\n",
       "        vertical-align: top;\n",
       "    }\n",
       "\n",
       "    .dataframe thead th {\n",
       "        text-align: right;\n",
       "    }\n",
       "</style>\n",
       "<table border=\"1\" class=\"dataframe\">\n",
       "  <thead>\n",
       "    <tr style=\"text-align: right;\">\n",
       "      <th></th>\n",
       "      <th>state</th>\n",
       "      <th>id</th>\n",
       "      <th>res.area.m2</th>\n",
       "      <th>com.area.m2</th>\n",
       "      <th>frac.elec.res</th>\n",
       "      <th>frac.elec.com</th>\n",
       "    </tr>\n",
       "  </thead>\n",
       "  <tbody>\n",
       "    <tr>\n",
       "      <th>0</th>\n",
       "      <td>TX</td>\n",
       "      <td>48001950100</td>\n",
       "      <td>333369.743438</td>\n",
       "      <td>24271.941015</td>\n",
       "      <td>0.629032</td>\n",
       "      <td>0.629032</td>\n",
       "    </tr>\n",
       "    <tr>\n",
       "      <th>1</th>\n",
       "      <td>TX</td>\n",
       "      <td>48001950401</td>\n",
       "      <td>10536.040546</td>\n",
       "      <td>56206.153397</td>\n",
       "      <td>1.000000</td>\n",
       "      <td>1.000000</td>\n",
       "    </tr>\n",
       "    <tr>\n",
       "      <th>2</th>\n",
       "      <td>TX</td>\n",
       "      <td>48001950402</td>\n",
       "      <td>12105.358982</td>\n",
       "      <td>98282.128284</td>\n",
       "      <td>0.850000</td>\n",
       "      <td>0.850000</td>\n",
       "    </tr>\n",
       "    <tr>\n",
       "      <th>3</th>\n",
       "      <td>TX</td>\n",
       "      <td>48001950500</td>\n",
       "      <td>256222.504502</td>\n",
       "      <td>96214.848568</td>\n",
       "      <td>0.417722</td>\n",
       "      <td>0.417722</td>\n",
       "    </tr>\n",
       "    <tr>\n",
       "      <th>4</th>\n",
       "      <td>TX</td>\n",
       "      <td>48001950600</td>\n",
       "      <td>365170.457756</td>\n",
       "      <td>84522.070433</td>\n",
       "      <td>0.542808</td>\n",
       "      <td>0.542808</td>\n",
       "    </tr>\n",
       "  </tbody>\n",
       "</table>\n",
       "</div>"
      ],
      "text/plain": [
       "  state           id    res.area.m2   com.area.m2  frac.elec.res  \\\n",
       "0    TX  48001950100  333369.743438  24271.941015       0.629032   \n",
       "1    TX  48001950401   10536.040546  56206.153397       1.000000   \n",
       "2    TX  48001950402   12105.358982  98282.128284       0.850000   \n",
       "3    TX  48001950500  256222.504502  96214.848568       0.417722   \n",
       "4    TX  48001950600  365170.457756  84522.070433       0.542808   \n",
       "\n",
       "   frac.elec.com  \n",
       "0       0.629032  \n",
       "1       1.000000  \n",
       "2       0.850000  \n",
       "3       0.417722  \n",
       "4       0.542808  "
      ]
     },
     "execution_count": 3,
     "metadata": {},
     "output_type": "execute_result"
    }
   ],
   "source": [
    "tract_data = pd.read_csv(datadir(\"raw\", \"waite20\", \"tract.data.TX.csv\"))[\n",
    "    [\"state\", \"id\", \"res.area.m2\", \"com.area.m2\", \"frac.elec.res\", \"frac.elec.com\"]\n",
    "]\n",
    "tract_data.head(5)"
   ]
  },
  {
   "cell_type": "markdown",
   "id": "central-geology",
   "metadata": {},
   "source": [
    "First we compute the fraction of all residential that is electric"
   ]
  },
  {
   "cell_type": "code",
   "execution_count": 4,
   "id": "relative-firewall",
   "metadata": {},
   "outputs": [],
   "source": [
    "frac_res_electric = (\n",
    "    tract_data[\"frac.elec.res\"] * tract_data[\"res.area.m2\"]\n",
    ").sum() / tract_data[\"res.area.m2\"].sum()"
   ]
  },
  {
   "cell_type": "markdown",
   "id": "configured-camel",
   "metadata": {},
   "source": [
    "Then repeat for commercial"
   ]
  },
  {
   "cell_type": "code",
   "execution_count": 5,
   "id": "freelance-swiss",
   "metadata": {},
   "outputs": [],
   "source": [
    "frac_com_electric = (\n",
    "    tract_data[\"frac.elec.com\"] * tract_data[\"com.area.m2\"]\n",
    ").sum() / tract_data[\"com.area.m2\"].sum()"
   ]
  },
  {
   "cell_type": "markdown",
   "id": "advance-aurora",
   "metadata": {},
   "source": [
    "Get answers"
   ]
  },
  {
   "cell_type": "code",
   "execution_count": 6,
   "id": "japanese-calgary",
   "metadata": {},
   "outputs": [
    {
     "data": {
      "text/plain": [
       "(0.539006190699398, 0.5696653383176984)"
      ]
     },
     "execution_count": 6,
     "metadata": {},
     "output_type": "execute_result"
    }
   ],
   "source": [
    "frac_res_electric, frac_com_electric"
   ]
  }
 ],
 "metadata": {
  "kernelspec": {
   "display_name": "Python 3",
   "language": "python",
   "name": "python3"
  },
  "language_info": {
   "codemirror_mode": {
    "name": "ipython",
    "version": 3
   },
   "file_extension": ".py",
   "mimetype": "text/x-python",
   "name": "python",
   "nbconvert_exporter": "python",
   "pygments_lexer": "ipython3",
   "version": "3.7.10"
  }
 },
 "nbformat": 4,
 "nbformat_minor": 5
}
